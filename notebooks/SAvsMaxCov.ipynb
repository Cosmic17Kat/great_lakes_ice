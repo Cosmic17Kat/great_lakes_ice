{
 "cells": [
  {
   "cell_type": "code",
   "execution_count": 1,
   "metadata": {},
   "outputs": [],
   "source": [
    "import pandas as pd\n",
    "import numpy as np\n",
    "import os\n",
    "import matplotlib.pyplot as plt"
   ]
  },
  {
   "cell_type": "code",
   "execution_count": 2,
   "metadata": {},
   "outputs": [],
   "source": [
    "clean_data_dir = os.path.join('..','data_files','clean_data')\n",
    "lake_colors_d = {'Superior':'blue',\n",
    "                 'Michigan':'red',\n",
    "                 'Huron':'green',\n",
    "                 'Erie':'purple',\n",
    "                 'Ontario':'orange'}"
   ]
  },
  {
   "cell_type": "code",
   "execution_count": 3,
   "metadata": {},
   "outputs": [],
   "source": [
    "lake_stats = pd.read_csv(os.path.join(clean_data_dir,'lake_stats.csv'),index_col=0)\n",
    "lakes = lake_stats.index.tolist()"
   ]
  },
  {
   "cell_type": "code",
   "execution_count": 4,
   "metadata": {},
   "outputs": [
    {
     "data": {
      "text/html": [
       "<div>\n",
       "<style scoped>\n",
       "    .dataframe tbody tr th:only-of-type {\n",
       "        vertical-align: middle;\n",
       "    }\n",
       "\n",
       "    .dataframe tbody tr th {\n",
       "        vertical-align: top;\n",
       "    }\n",
       "\n",
       "    .dataframe thead th {\n",
       "        text-align: right;\n",
       "    }\n",
       "</style>\n",
       "<table border=\"1\" class=\"dataframe\">\n",
       "  <thead>\n",
       "    <tr style=\"text-align: right;\">\n",
       "      <th></th>\n",
       "      <th>Unnamed: 0</th>\n",
       "      <th>Superior</th>\n",
       "      <th>Michigan</th>\n",
       "      <th>Huron</th>\n",
       "      <th>Erie</th>\n",
       "      <th>Ontario</th>\n",
       "      <th>Weekday</th>\n",
       "      <th>Year</th>\n",
       "      <th>Month</th>\n",
       "      <th>Day</th>\n",
       "      <th>Period</th>\n",
       "    </tr>\n",
       "    <tr>\n",
       "      <th>Date</th>\n",
       "      <th></th>\n",
       "      <th></th>\n",
       "      <th></th>\n",
       "      <th></th>\n",
       "      <th></th>\n",
       "      <th></th>\n",
       "      <th></th>\n",
       "      <th></th>\n",
       "      <th></th>\n",
       "      <th></th>\n",
       "      <th></th>\n",
       "    </tr>\n",
       "  </thead>\n",
       "  <tbody>\n",
       "    <tr>\n",
       "      <th>1972-12-19</th>\n",
       "      <td>0</td>\n",
       "      <td>0.00</td>\n",
       "      <td>NaN</td>\n",
       "      <td>NaN</td>\n",
       "      <td>NaN</td>\n",
       "      <td>NaN</td>\n",
       "      <td>Tuesday</td>\n",
       "      <td>1972</td>\n",
       "      <td>12</td>\n",
       "      <td>19</td>\n",
       "      <td>1972-12</td>\n",
       "    </tr>\n",
       "    <tr>\n",
       "      <th>1972-12-20</th>\n",
       "      <td>1</td>\n",
       "      <td>16.62</td>\n",
       "      <td>9.21</td>\n",
       "      <td>25.26</td>\n",
       "      <td>0.0</td>\n",
       "      <td>0.61</td>\n",
       "      <td>Wednesday</td>\n",
       "      <td>1972</td>\n",
       "      <td>12</td>\n",
       "      <td>20</td>\n",
       "      <td>1972-12</td>\n",
       "    </tr>\n",
       "    <tr>\n",
       "      <th>1972-12-28</th>\n",
       "      <td>2</td>\n",
       "      <td>9.35</td>\n",
       "      <td>12.09</td>\n",
       "      <td>12.65</td>\n",
       "      <td>0.0</td>\n",
       "      <td>2.98</td>\n",
       "      <td>Thursday</td>\n",
       "      <td>1972</td>\n",
       "      <td>12</td>\n",
       "      <td>28</td>\n",
       "      <td>1972-12</td>\n",
       "    </tr>\n",
       "    <tr>\n",
       "      <th>1973-01-02</th>\n",
       "      <td>3</td>\n",
       "      <td>13.03</td>\n",
       "      <td>6.53</td>\n",
       "      <td>22.00</td>\n",
       "      <td>3.4</td>\n",
       "      <td>2.80</td>\n",
       "      <td>Tuesday</td>\n",
       "      <td>1973</td>\n",
       "      <td>1</td>\n",
       "      <td>2</td>\n",
       "      <td>1973-01</td>\n",
       "    </tr>\n",
       "    <tr>\n",
       "      <th>1973-01-09</th>\n",
       "      <td>4</td>\n",
       "      <td>29.69</td>\n",
       "      <td>21.55</td>\n",
       "      <td>31.30</td>\n",
       "      <td>25.4</td>\n",
       "      <td>21.40</td>\n",
       "      <td>Tuesday</td>\n",
       "      <td>1973</td>\n",
       "      <td>1</td>\n",
       "      <td>9</td>\n",
       "      <td>1973-01</td>\n",
       "    </tr>\n",
       "  </tbody>\n",
       "</table>\n",
       "</div>"
      ],
      "text/plain": [
       "            Unnamed: 0  Superior  Michigan  Huron  Erie  Ontario    Weekday  \\\n",
       "Date                                                                          \n",
       "1972-12-19           0      0.00       NaN    NaN   NaN      NaN    Tuesday   \n",
       "1972-12-20           1     16.62      9.21  25.26   0.0     0.61  Wednesday   \n",
       "1972-12-28           2      9.35     12.09  12.65   0.0     2.98   Thursday   \n",
       "1973-01-02           3     13.03      6.53  22.00   3.4     2.80    Tuesday   \n",
       "1973-01-09           4     29.69     21.55  31.30  25.4    21.40    Tuesday   \n",
       "\n",
       "            Year  Month  Day   Period  \n",
       "Date                                   \n",
       "1972-12-19  1972     12   19  1972-12  \n",
       "1972-12-20  1972     12   20  1972-12  \n",
       "1972-12-28  1972     12   28  1972-12  \n",
       "1973-01-02  1973      1    2  1973-01  \n",
       "1973-01-09  1973      1    9  1973-01  "
      ]
     },
     "execution_count": 4,
     "metadata": {},
     "output_type": "execute_result"
    }
   ],
   "source": [
    "ice_coverage = pd.read_csv(os.path.join('..','data_files','ice_data','ice_coverage.csv'),index_col='Date')\n",
    "ice_coverage.head()"
   ]
  },
  {
   "cell_type": "code",
   "execution_count": 5,
   "metadata": {},
   "outputs": [
    {
     "data": {
      "text/plain": [
       "Superior    100.00\n",
       "Michigan     93.33\n",
       "Huron        98.50\n",
       "Erie        100.00\n",
       "Ontario      86.26\n",
       "dtype: float64"
      ]
     },
     "execution_count": 5,
     "metadata": {},
     "output_type": "execute_result"
    }
   ],
   "source": [
    "max_coverage = ice_coverage[lakes].max()\n",
    "max_coverage"
   ]
  },
  {
   "cell_type": "code",
   "execution_count": 6,
   "metadata": {},
   "outputs": [
    {
     "data": {
      "text/plain": [
       "{'Superior': [1996],\n",
       " 'Michigan': [2014],\n",
       " 'Huron': [1994],\n",
       " 'Erie': [1978, 1979, 1996],\n",
       " 'Ontario': [1979]}"
      ]
     },
     "execution_count": 6,
     "metadata": {},
     "output_type": "execute_result"
    }
   ],
   "source": [
    "max_yrs = {}\n",
    "temp = []\n",
    "max_days = []\n",
    "for lake in lakes:\n",
    "    max_days = ice_coverage.index[ice_coverage[lake] == max_coverage[lake]].tolist()\n",
    "    max_yrs[lake] = np.unique([int(x[:4]) for x in max_days]).tolist()\n",
    "max_yrs"
   ]
  },
  {
   "cell_type": "code",
   "execution_count": 7,
   "metadata": {},
   "outputs": [
    {
     "data": {
      "text/plain": [
       "['1978-02-08',\n",
       " '1978-02-15',\n",
       " '1978-02-22',\n",
       " '1978-03-01',\n",
       " '1978-03-08',\n",
       " '1979-02-12',\n",
       " '1996-02-05',\n",
       " '1996-02-16']"
      ]
     },
     "execution_count": 7,
     "metadata": {},
     "output_type": "execute_result"
    }
   ],
   "source": [
    "ice_coverage.index[ice_coverage['Erie'] == max_coverage['Erie']].tolist()"
   ]
  },
  {
   "cell_type": "code",
   "execution_count": 8,
   "metadata": {},
   "outputs": [
    {
     "data": {
      "text/plain": [
       "Superior    82100\n",
       "Michigan    57800\n",
       "Huron       59600\n",
       "Erie        25700\n",
       "Ontario     18960\n",
       "Name: Water Area (km2), dtype: int64"
      ]
     },
     "execution_count": 8,
     "metadata": {},
     "output_type": "execute_result"
    }
   ],
   "source": [
    "surface_area = lake_stats['Water Area (km2)']\n",
    "volume = lake_stats['Volumea (km3)']\n",
    "surface_area"
   ]
  },
  {
   "cell_type": "code",
   "execution_count": 11,
   "metadata": {},
   "outputs": [
    {
     "data": {
      "image/png": "[encoded data removed]",
      "text/plain": [
       "<Figure size 1440x1008 with 1 Axes>"
      ]
     },
     "metadata": {
      "needs_background": "light"
     },
     "output_type": "display_data"
    }
   ],
   "source": [
    "plt.figure(figsize=(20,14))\n",
    "plt.title('Max % Ice Coverage vs Surface Area',fontsize=20)\n",
    "for lake in lakes:\n",
    "    plt.scatter(surface_area[lake],max_coverage[lake],s=100,c=lake_colors_d[lake],label=f\"{lake} : {max_yrs[lake]}\")\n",
    "plt.xlabel('Surface Area (km2)',fontsize=15)\n",
    "plt.ylabel('Max % Ice Coverage',fontsize=15)\n",
    "plt.xlim(0,max(surface_area.values)+10000)\n",
    "plt.ylim(0,105)\n",
    "plt.xticks(np.arange(0,max(surface_area.values)+10000,step=10000))\n",
    "plt.yticks(np.arange(0,105,step=10))\n",
    "plt.legend(fontsize=20)\n",
    "plt.grid()\n",
    "plt.savefig(os.path.join('..','images','SAvsMIC.png'))\n",
    "plt.show()"
   ]
  },
  {
   "cell_type": "code",
   "execution_count": null,
   "metadata": {},
   "outputs": [],
   "source": []
  }
 ],
 "metadata": {
  "kernelspec": {
   "display_name": "project-1",
   "language": "python",
   "name": "python3"
  },
  "language_info": {
   "codemirror_mode": {
    "name": "ipython",
    "version": 3
   },
   "file_extension": ".py",
   "mimetype": "text/x-python",
   "name": "python",
   "nbconvert_exporter": "python",
   "pygments_lexer": "ipython3",
   "version": "3.7.4"
  }
 },
 "nbformat": 4,
 "nbformat_minor": 4
}
