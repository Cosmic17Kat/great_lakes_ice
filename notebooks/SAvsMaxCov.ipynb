{
 "cells": [
  {
   "cell_type": "code",
   "execution_count": 1,
   "metadata": {},
   "outputs": [],
   "source": [
    "import pandas as pd\n",
    "import numpy as np\n",
    "import os\n",
    "import matplotlib.pyplot as plt"
   ]
  },
  {
   "cell_type": "code",
   "execution_count": 2,
   "metadata": {},
   "outputs": [],
   "source": [
    "clean_data_dir = os.path.join('..','data_files','clean_data')\n",
    "lake_colors_d = {'Lake Superior':'blue',\n",
    "                 'Lake Michigan':'red',\n",
    "                 'Lake Huron':'green',\n",
    "                 'Lake Erie':'purple',\n",
    "                 'Lake Ontario':'orange'}"
   ]
  },
  {
   "cell_type": "code",
   "execution_count": 3,
   "metadata": {},
   "outputs": [
    {
     "data": {
      "text/plain": [
       "['Lake Superior', 'Lake Michigan', 'Lake Huron', 'Lake Erie', 'Lake Ontario']"
      ]
     },
     "execution_count": 3,
     "metadata": {},
     "output_type": "execute_result"
    }
   ],
   "source": [
    "lake_stats = pd.read_csv(os.path.join(clean_data_dir,'lake_stats.csv'),index_col=0)\n",
    "lakes = lake_stats.index.tolist()\n",
    "lake_ls = ['Lake '+ x for x in lakes]\n",
    "lake_ls"
   ]
  },
  {
   "cell_type": "code",
   "execution_count": 4,
   "metadata": {},
   "outputs": [
    {
     "data": {
      "text/html": [
       "<div>\n",
       "<style scoped>\n",
       "    .dataframe tbody tr th:only-of-type {\n",
       "        vertical-align: middle;\n",
       "    }\n",
       "\n",
       "    .dataframe tbody tr th {\n",
       "        vertical-align: top;\n",
       "    }\n",
       "\n",
       "    .dataframe thead th {\n",
       "        text-align: right;\n",
       "    }\n",
       "</style>\n",
       "<table border=\"1\" class=\"dataframe\">\n",
       "  <thead>\n",
       "    <tr style=\"text-align: right;\">\n",
       "      <th></th>\n",
       "      <th>Unnamed: 0</th>\n",
       "      <th>Lake Erie</th>\n",
       "      <th>Lake Huron</th>\n",
       "      <th>Lake Michigan</th>\n",
       "      <th>Lake Ontario</th>\n",
       "      <th>Lake Superior</th>\n",
       "      <th>Weekday</th>\n",
       "    </tr>\n",
       "    <tr>\n",
       "      <th>Date</th>\n",
       "      <th></th>\n",
       "      <th></th>\n",
       "      <th></th>\n",
       "      <th></th>\n",
       "      <th></th>\n",
       "      <th></th>\n",
       "      <th></th>\n",
       "    </tr>\n",
       "  </thead>\n",
       "  <tbody>\n",
       "    <tr>\n",
       "      <th>1972-12-19</th>\n",
       "      <td>0</td>\n",
       "      <td>NaN</td>\n",
       "      <td>NaN</td>\n",
       "      <td>NaN</td>\n",
       "      <td>NaN</td>\n",
       "      <td>0.00</td>\n",
       "      <td>Tuesday</td>\n",
       "    </tr>\n",
       "    <tr>\n",
       "      <th>1972-12-20</th>\n",
       "      <td>1</td>\n",
       "      <td>0.0</td>\n",
       "      <td>25.26</td>\n",
       "      <td>9.21</td>\n",
       "      <td>0.61</td>\n",
       "      <td>16.62</td>\n",
       "      <td>Wednesday</td>\n",
       "    </tr>\n",
       "    <tr>\n",
       "      <th>1972-12-28</th>\n",
       "      <td>2</td>\n",
       "      <td>0.0</td>\n",
       "      <td>12.65</td>\n",
       "      <td>12.09</td>\n",
       "      <td>2.98</td>\n",
       "      <td>9.35</td>\n",
       "      <td>Thursday</td>\n",
       "    </tr>\n",
       "    <tr>\n",
       "      <th>1973-01-02</th>\n",
       "      <td>3</td>\n",
       "      <td>3.4</td>\n",
       "      <td>22.00</td>\n",
       "      <td>6.53</td>\n",
       "      <td>2.80</td>\n",
       "      <td>13.03</td>\n",
       "      <td>Tuesday</td>\n",
       "    </tr>\n",
       "    <tr>\n",
       "      <th>1973-01-09</th>\n",
       "      <td>4</td>\n",
       "      <td>25.4</td>\n",
       "      <td>31.30</td>\n",
       "      <td>21.55</td>\n",
       "      <td>21.40</td>\n",
       "      <td>29.69</td>\n",
       "      <td>Tuesday</td>\n",
       "    </tr>\n",
       "  </tbody>\n",
       "</table>\n",
       "</div>"
      ],
      "text/plain": [
       "            Unnamed: 0  Lake Erie  Lake Huron  Lake Michigan  Lake Ontario  \\\n",
       "Date                                                                         \n",
       "1972-12-19           0        NaN         NaN            NaN           NaN   \n",
       "1972-12-20           1        0.0       25.26           9.21          0.61   \n",
       "1972-12-28           2        0.0       12.65          12.09          2.98   \n",
       "1973-01-02           3        3.4       22.00           6.53          2.80   \n",
       "1973-01-09           4       25.4       31.30          21.55         21.40   \n",
       "\n",
       "            Lake Superior    Weekday  \n",
       "Date                                  \n",
       "1972-12-19           0.00    Tuesday  \n",
       "1972-12-20          16.62  Wednesday  \n",
       "1972-12-28           9.35   Thursday  \n",
       "1973-01-02          13.03    Tuesday  \n",
       "1973-01-09          29.69    Tuesday  "
      ]
     },
     "execution_count": 4,
     "metadata": {},
     "output_type": "execute_result"
    }
   ],
   "source": [
    "ice_coverage = pd.read_csv(os.path.join('..','data_files','ice_data','ice_coverage.csv'),index_col='Date')\n",
    "ice_coverage.head()"
   ]
  },
  {
   "cell_type": "code",
   "execution_count": 5,
   "metadata": {},
   "outputs": [
    {
     "data": {
      "text/plain": [
       "Lake Superior    100.00\n",
       "Lake Michigan     93.33\n",
       "Lake Huron        98.50\n",
       "Lake Erie        100.00\n",
       "Lake Ontario      86.26\n",
       "dtype: float64"
      ]
     },
     "execution_count": 5,
     "metadata": {},
     "output_type": "execute_result"
    }
   ],
   "source": [
    "max_coverage = ice_coverage[lake_ls].max()\n",
    "max_coverage"
   ]
  },
  {
   "cell_type": "code",
   "execution_count": 6,
   "metadata": {},
   "outputs": [
    {
     "data": {
      "text/plain": [
       "{'Lake Superior': [1996],\n",
       " 'Lake Michigan': [2014],\n",
       " 'Lake Huron': [1994],\n",
       " 'Lake Erie': [1978, 1979, 1996],\n",
       " 'Lake Ontario': [1979]}"
      ]
     },
     "execution_count": 6,
     "metadata": {},
     "output_type": "execute_result"
    }
   ],
   "source": [
    "max_yrs = {}\n",
    "temp = []\n",
    "max_days = []\n",
    "for lake in lake_ls:\n",
    "    max_days = ice_coverage.index[ice_coverage[lake] == max_coverage[lake]].tolist()\n",
    "    max_yrs[lake] = np.unique([int(x[:4]) for x in max_days]).tolist()\n",
    "max_yrs"
   ]
  },
  {
   "cell_type": "code",
   "execution_count": 7,
   "metadata": {},
   "outputs": [
    {
     "data": {
      "text/plain": [
       "['1978-02-08',\n",
       " '1978-02-15',\n",
       " '1978-02-22',\n",
       " '1978-03-01',\n",
       " '1978-03-08',\n",
       " '1979-02-12',\n",
       " '1996-02-05',\n",
       " '1996-02-16']"
      ]
     },
     "execution_count": 7,
     "metadata": {},
     "output_type": "execute_result"
    }
   ],
   "source": [
    "ice_coverage.index[ice_coverage['Lake Erie'] == max_coverage['Lake Erie']].tolist()"
   ]
  },
  {
   "cell_type": "code",
   "execution_count": 8,
   "metadata": {},
   "outputs": [
    {
     "data": {
      "text/plain": [
       "Lake Superior    82100\n",
       "Lake Michigan    57800\n",
       "Lake Huron       59600\n",
       "Lake Erie        25700\n",
       "Lake Ontario     18960\n",
       "Name: Water Area (km2), dtype: int64"
      ]
     },
     "execution_count": 8,
     "metadata": {},
     "output_type": "execute_result"
    }
   ],
   "source": [
    "surface_area = lake_stats['Water Area (km2)'].add_prefix('Lake ')\n",
    "volume = lake_stats['Volumea (km3)'].add_prefix('Lake ')\n",
    "surface_area"
   ]
  },
  {
   "cell_type": "code",
   "execution_count": 9,
   "metadata": {},
   "outputs": [
    {
     "data": {
      "image/png": "[encoded data removed]",
      "text/plain": [
       "<Figure size 720x504 with 1 Axes>"
      ]
     },
     "metadata": {
      "needs_background": "light"
     },
     "output_type": "display_data"
    }
   ],
   "source": [
    "plt.figure(figsize=(10,7))\n",
    "plt.title('Max Ice Coverage vs Surface Area')\n",
    "for lake in lake_ls:\n",
    "    plt.scatter(surface_area[lake],max_coverage[lake],c=lake_colors_d[lake],label=f\"{lake} : {max_yrs[lake]}\")\n",
    "plt.xlabel('Surface Area (km2)')\n",
    "plt.ylabel('Max % Ice Coverage')\n",
    "plt.xlim(0,max(surface_area.values)+10000)\n",
    "plt.ylim(0,105)\n",
    "plt.xticks(np.arange(0,max(surface_area.values)+10000,step=10000))\n",
    "plt.yticks(np.arange(0,105,step=10))\n",
    "plt.legend()\n",
    "plt.grid()\n",
    "plt.show()"
   ]
  },
  {
   "cell_type": "code",
   "execution_count": null,
   "metadata": {},
   "outputs": [],
   "source": []
  }
 ],
 "metadata": {
  "kernelspec": {
   "display_name": "project-1",
   "language": "python",
   "name": "python3"
  },
  "language_info": {
   "codemirror_mode": {
    "name": "ipython",
    "version": 3
   },
   "file_extension": ".py",
   "mimetype": "text/x-python",
   "name": "python",
   "nbconvert_exporter": "python",
   "pygments_lexer": "ipython3",
   "version": "3.7.4"
  }
 },
 "nbformat": 4,
 "nbformat_minor": 4
}
