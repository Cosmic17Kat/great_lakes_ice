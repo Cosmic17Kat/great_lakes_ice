{
 "cells": [
  {
   "cell_type": "code",
   "execution_count": 1,
   "metadata": {},
   "outputs": [],
   "source": [
    "import pandas as pd\n",
    "import numpy as np\n",
    "import os\n",
    "import requests\n",
    "import datetime as dt\n",
    "from config import noaa_token as token"
   ]
  },
  {
   "cell_type": "code",
   "execution_count": 2,
   "metadata": {},
   "outputs": [],
   "source": [
    "#variables\n",
    "base = 'https://www.ncdc.noaa.gov/cdo-web/api/v2/'\n",
    "header = {'token':token,\n",
    "          'Content-Type':'application/json'}\n",
    "\n",
    "state_iso = {'Illinois':'IL',\n",
    "            'Indiana':'IA',\n",
    "            'Michigan':'MI',\n",
    "            'Minnesota':'MN',\n",
    "            'New York':'NY',\n",
    "            'Ohio':'OH',\n",
    "            'Pennsylvania':'PA',\n",
    "            'Wisconsin':'WI',}\n",
    "\n",
    "lake_st = {'Superior':['MI','MN','WI'],\n",
    "          'Michigan':['IA','IL','MI','WI'],\n",
    "          'Huron':['MI'],\n",
    "          'Erie':['IA','NY','OH','PA'],\n",
    "          'Ontario':['NY']}"
   ]
  },
  {
   "cell_type": "code",
   "execution_count": 3,
   "metadata": {},
   "outputs": [],
   "source": [
    "#get count\n",
    "def get_c(json):\n",
    "    return json['metadata']['resultset']['count']\n",
    "\n",
    "def gather(endpt,load):\n",
    "    initial = requests.get(base+endpt,headers=header,params=load).json()\n",
    "    count = get_c(initial)\n",
    "    json = initial['results']\n",
    "    offset = 1000\n",
    "    while offset < count:\n",
    "        load['offset'] = offset\n",
    "        json += requests.get(base+endpt,headers=header,params=load).json()['results']\n",
    "        offset += 1000\n",
    "    return pd.DataFrame(json)"
   ]
  },
  {
   "cell_type": "code",
   "execution_count": 4,
   "metadata": {},
   "outputs": [],
   "source": [
    "#Return only rows in daterange\n",
    "#currently dates are hardcoded - can we do this programatically\n",
    "def time_range(df):\n",
    "    df_min = df[df['mindate']<='1972-12-19']\n",
    "    df_total = df_min[df_min['maxdate']>='2016-05-05']\n",
    "    return df_total"
   ]
  },
  {
   "cell_type": "code",
   "execution_count": 5,
   "metadata": {},
   "outputs": [
    {
     "data": {
      "text/plain": [
       "200"
      ]
     },
     "execution_count": 5,
     "metadata": {},
     "output_type": "execute_result"
    }
   ],
   "source": [
    "location_ids = requests.get(base+'locations',headers=header,params={'locationcategoryid':'ST','limit':100})\n",
    "location_ids.status_code"
   ]
  },
  {
   "cell_type": "code",
   "execution_count": 6,
   "metadata": {},
   "outputs": [
    {
     "data": {
      "text/html": [
       "<div>\n",
       "<style scoped>\n",
       "    .dataframe tbody tr th:only-of-type {\n",
       "        vertical-align: middle;\n",
       "    }\n",
       "\n",
       "    .dataframe tbody tr th {\n",
       "        vertical-align: top;\n",
       "    }\n",
       "\n",
       "    .dataframe thead th {\n",
       "        text-align: right;\n",
       "    }\n",
       "</style>\n",
       "<table border=\"1\" class=\"dataframe\">\n",
       "  <thead>\n",
       "    <tr style=\"text-align: right;\">\n",
       "      <th></th>\n",
       "      <th>mindate</th>\n",
       "      <th>maxdate</th>\n",
       "      <th>name</th>\n",
       "      <th>datacoverage</th>\n",
       "      <th>id</th>\n",
       "    </tr>\n",
       "  </thead>\n",
       "  <tbody>\n",
       "    <tr>\n",
       "      <th>0</th>\n",
       "      <td>1888-02-01</td>\n",
       "      <td>2020-01-12</td>\n",
       "      <td>Alabama</td>\n",
       "      <td>1</td>\n",
       "      <td>FIPS:01</td>\n",
       "    </tr>\n",
       "    <tr>\n",
       "      <th>1</th>\n",
       "      <td>1893-09-01</td>\n",
       "      <td>2020-01-12</td>\n",
       "      <td>Alaska</td>\n",
       "      <td>1</td>\n",
       "      <td>FIPS:02</td>\n",
       "    </tr>\n",
       "    <tr>\n",
       "      <th>2</th>\n",
       "      <td>1867-08-01</td>\n",
       "      <td>2020-01-12</td>\n",
       "      <td>Arizona</td>\n",
       "      <td>1</td>\n",
       "      <td>FIPS:04</td>\n",
       "    </tr>\n",
       "    <tr>\n",
       "      <th>3</th>\n",
       "      <td>1871-07-01</td>\n",
       "      <td>2020-01-12</td>\n",
       "      <td>Arkansas</td>\n",
       "      <td>1</td>\n",
       "      <td>FIPS:05</td>\n",
       "    </tr>\n",
       "    <tr>\n",
       "      <th>4</th>\n",
       "      <td>1850-10-01</td>\n",
       "      <td>2020-01-12</td>\n",
       "      <td>California</td>\n",
       "      <td>1</td>\n",
       "      <td>FIPS:06</td>\n",
       "    </tr>\n",
       "  </tbody>\n",
       "</table>\n",
       "</div>"
      ],
      "text/plain": [
       "      mindate     maxdate        name  datacoverage       id\n",
       "0  1888-02-01  2020-01-12     Alabama             1  FIPS:01\n",
       "1  1893-09-01  2020-01-12      Alaska             1  FIPS:02\n",
       "2  1867-08-01  2020-01-12     Arizona             1  FIPS:04\n",
       "3  1871-07-01  2020-01-12    Arkansas             1  FIPS:05\n",
       "4  1850-10-01  2020-01-12  California             1  FIPS:06"
      ]
     },
     "execution_count": 6,
     "metadata": {},
     "output_type": "execute_result"
    }
   ],
   "source": [
    "all_states = pd.DataFrame(location_ids.json()['results'])\n",
    "all_states.head()"
   ]
  },
  {
   "cell_type": "code",
   "execution_count": 7,
   "metadata": {},
   "outputs": [
    {
     "data": {
      "text/plain": [
       "{'Illinois': 'FIPS:17',\n",
       " 'Indiana': 'FIPS:18',\n",
       " 'Michigan': 'FIPS:26',\n",
       " 'Minnesota': 'FIPS:27',\n",
       " 'New York': 'FIPS:36',\n",
       " 'Ohio': 'FIPS:39',\n",
       " 'Pennsylvania': 'FIPS:42',\n",
       " 'Wisconsin': 'FIPS:55'}"
      ]
     },
     "execution_count": 7,
     "metadata": {},
     "output_type": "execute_result"
    }
   ],
   "source": [
    "state_ids = {}\n",
    "for state in state_iso.keys():\n",
    "    state_ids[state] = all_states[all_states['name']==state]['id'].values[0]\n",
    "state_ids"
   ]
  },
  {
   "cell_type": "code",
   "execution_count": 8,
   "metadata": {},
   "outputs": [
    {
     "name": "stdout",
     "output_type": "stream",
     "text": [
      "Illinois: 2387\n",
      "Indiana: 2030\n",
      "Michigan: 1833\n",
      "Minnesota: 1792\n",
      "New York: 2313\n",
      "Ohio: 1570\n",
      "Pennsylvania: 2031\n",
      "Wisconsin: 1431\n",
      "Total: 15387\n"
     ]
    }
   ],
   "source": [
    "state_data = pd.DataFrame()\n",
    "for state,st_id in state_ids.items():\n",
    "    data = gather('stations',{'locationid':st_id,'limit':'1000'})\n",
    "    print(state + ': ' + str(len(data)))\n",
    "    data['location_id_state'] = state_iso[state]\n",
    "    state_data = state_data.append(data,ignore_index=True)\n",
    "print('Total: '+str(len(state_data)))"
   ]
  },
  {
   "cell_type": "code",
   "execution_count": 9,
   "metadata": {},
   "outputs": [
    {
     "data": {
      "text/html": [
       "<div>\n",
       "<style scoped>\n",
       "    .dataframe tbody tr th:only-of-type {\n",
       "        vertical-align: middle;\n",
       "    }\n",
       "\n",
       "    .dataframe tbody tr th {\n",
       "        vertical-align: top;\n",
       "    }\n",
       "\n",
       "    .dataframe thead th {\n",
       "        text-align: right;\n",
       "    }\n",
       "</style>\n",
       "<table border=\"1\" class=\"dataframe\">\n",
       "  <thead>\n",
       "    <tr style=\"text-align: right;\">\n",
       "      <th></th>\n",
       "      <th>elevation</th>\n",
       "      <th>mindate</th>\n",
       "      <th>maxdate</th>\n",
       "      <th>latitude</th>\n",
       "      <th>name</th>\n",
       "      <th>datacoverage</th>\n",
       "      <th>elevationUnit</th>\n",
       "      <th>longitude</th>\n",
       "      <th>location_id_state</th>\n",
       "    </tr>\n",
       "    <tr>\n",
       "      <th>id</th>\n",
       "      <th></th>\n",
       "      <th></th>\n",
       "      <th></th>\n",
       "      <th></th>\n",
       "      <th></th>\n",
       "      <th></th>\n",
       "      <th></th>\n",
       "      <th></th>\n",
       "      <th></th>\n",
       "    </tr>\n",
       "  </thead>\n",
       "  <tbody>\n",
       "    <tr>\n",
       "      <th>COOP:110050</th>\n",
       "      <td>131.1</td>\n",
       "      <td>1990-10-01</td>\n",
       "      <td>2015-11-01</td>\n",
       "      <td>38.54110</td>\n",
       "      <td>ALBERS 1 W, IL US</td>\n",
       "      <td>0.9967</td>\n",
       "      <td>METERS</td>\n",
       "      <td>-89.62890</td>\n",
       "      <td>IL</td>\n",
       "    </tr>\n",
       "    <tr>\n",
       "      <th>COOP:110055</th>\n",
       "      <td>161.5</td>\n",
       "      <td>1942-06-01</td>\n",
       "      <td>2006-04-01</td>\n",
       "      <td>38.37770</td>\n",
       "      <td>ALBION, IL US</td>\n",
       "      <td>0.9518</td>\n",
       "      <td>METERS</td>\n",
       "      <td>-88.05690</td>\n",
       "      <td>IL</td>\n",
       "    </tr>\n",
       "    <tr>\n",
       "      <th>COOP:110072</th>\n",
       "      <td>222.5</td>\n",
       "      <td>1931-01-01</td>\n",
       "      <td>2015-11-01</td>\n",
       "      <td>41.19770</td>\n",
       "      <td>ALEDO, IL US</td>\n",
       "      <td>0.9951</td>\n",
       "      <td>METERS</td>\n",
       "      <td>-90.74470</td>\n",
       "      <td>IL</td>\n",
       "    </tr>\n",
       "    <tr>\n",
       "      <th>COOP:110082</th>\n",
       "      <td>207.3</td>\n",
       "      <td>1948-07-01</td>\n",
       "      <td>2015-11-01</td>\n",
       "      <td>41.05790</td>\n",
       "      <td>ALEXIS 1 SW, IL US</td>\n",
       "      <td>0.0964</td>\n",
       "      <td>METERS</td>\n",
       "      <td>-90.56540</td>\n",
       "      <td>IL</td>\n",
       "    </tr>\n",
       "    <tr>\n",
       "      <th>COOP:110137</th>\n",
       "      <td>132.6</td>\n",
       "      <td>1943-09-01</td>\n",
       "      <td>2015-11-01</td>\n",
       "      <td>38.86702</td>\n",
       "      <td>ALTON MELVIN PRICE LOCK AND DAM, IL US</td>\n",
       "      <td>0.9389</td>\n",
       "      <td>METERS</td>\n",
       "      <td>-90.14886</td>\n",
       "      <td>IL</td>\n",
       "    </tr>\n",
       "  </tbody>\n",
       "</table>\n",
       "</div>"
      ],
      "text/plain": [
       "             elevation     mindate     maxdate  latitude  \\\n",
       "id                                                         \n",
       "COOP:110050      131.1  1990-10-01  2015-11-01  38.54110   \n",
       "COOP:110055      161.5  1942-06-01  2006-04-01  38.37770   \n",
       "COOP:110072      222.5  1931-01-01  2015-11-01  41.19770   \n",
       "COOP:110082      207.3  1948-07-01  2015-11-01  41.05790   \n",
       "COOP:110137      132.6  1943-09-01  2015-11-01  38.86702   \n",
       "\n",
       "                                               name  datacoverage  \\\n",
       "id                                                                  \n",
       "COOP:110050                       ALBERS 1 W, IL US        0.9967   \n",
       "COOP:110055                           ALBION, IL US        0.9518   \n",
       "COOP:110072                            ALEDO, IL US        0.9951   \n",
       "COOP:110082                      ALEXIS 1 SW, IL US        0.0964   \n",
       "COOP:110137  ALTON MELVIN PRICE LOCK AND DAM, IL US        0.9389   \n",
       "\n",
       "            elevationUnit  longitude location_id_state  \n",
       "id                                                      \n",
       "COOP:110050        METERS  -89.62890                IL  \n",
       "COOP:110055        METERS  -88.05690                IL  \n",
       "COOP:110072        METERS  -90.74470                IL  \n",
       "COOP:110082        METERS  -90.56540                IL  \n",
       "COOP:110137        METERS  -90.14886                IL  "
      ]
     },
     "execution_count": 9,
     "metadata": {},
     "output_type": "execute_result"
    }
   ],
   "source": [
    "state_data = state_data.set_index('id')\n",
    "state_data.head()"
   ]
  },
  {
   "cell_type": "code",
   "execution_count": 10,
   "metadata": {},
   "outputs": [],
   "source": [
    "state_data['mindate'] = pd.to_datetime(state_data['mindate'])\n",
    "state_data['maxdate'] = pd.to_datetime(state_data['maxdate'])"
   ]
  },
  {
   "cell_type": "code",
   "execution_count": 11,
   "metadata": {},
   "outputs": [],
   "source": [
    "state_nonull = state_data[pd.notnull(state_data['elevation'])]"
   ]
  },
  {
   "cell_type": "code",
   "execution_count": 12,
   "metadata": {},
   "outputs": [
    {
     "data": {
      "text/html": [
       "<div>\n",
       "<style scoped>\n",
       "    .dataframe tbody tr th:only-of-type {\n",
       "        vertical-align: middle;\n",
       "    }\n",
       "\n",
       "    .dataframe tbody tr th {\n",
       "        vertical-align: top;\n",
       "    }\n",
       "\n",
       "    .dataframe thead th {\n",
       "        text-align: right;\n",
       "    }\n",
       "</style>\n",
       "<table border=\"1\" class=\"dataframe\">\n",
       "  <thead>\n",
       "    <tr style=\"text-align: right;\">\n",
       "      <th></th>\n",
       "      <th>elevation</th>\n",
       "      <th>mindate</th>\n",
       "      <th>maxdate</th>\n",
       "      <th>latitude</th>\n",
       "      <th>name</th>\n",
       "      <th>datacoverage</th>\n",
       "      <th>elevationUnit</th>\n",
       "      <th>longitude</th>\n",
       "      <th>location_id_state</th>\n",
       "    </tr>\n",
       "    <tr>\n",
       "      <th>id</th>\n",
       "      <th></th>\n",
       "      <th></th>\n",
       "      <th></th>\n",
       "      <th></th>\n",
       "      <th></th>\n",
       "      <th></th>\n",
       "      <th></th>\n",
       "      <th></th>\n",
       "      <th></th>\n",
       "    </tr>\n",
       "  </thead>\n",
       "  <tbody>\n",
       "    <tr>\n",
       "      <th>COOP:110050</th>\n",
       "      <td>131.1</td>\n",
       "      <td>1990-10-01</td>\n",
       "      <td>2015-11-01</td>\n",
       "      <td>38.54110</td>\n",
       "      <td>ALBERS 1 W, IL US</td>\n",
       "      <td>0.9967</td>\n",
       "      <td>METERS</td>\n",
       "      <td>-89.62890</td>\n",
       "      <td>IL</td>\n",
       "    </tr>\n",
       "    <tr>\n",
       "      <th>COOP:110055</th>\n",
       "      <td>161.5</td>\n",
       "      <td>1942-06-01</td>\n",
       "      <td>2006-04-01</td>\n",
       "      <td>38.37770</td>\n",
       "      <td>ALBION, IL US</td>\n",
       "      <td>0.9518</td>\n",
       "      <td>METERS</td>\n",
       "      <td>-88.05690</td>\n",
       "      <td>IL</td>\n",
       "    </tr>\n",
       "    <tr>\n",
       "      <th>COOP:110072</th>\n",
       "      <td>222.5</td>\n",
       "      <td>1931-01-01</td>\n",
       "      <td>2015-11-01</td>\n",
       "      <td>41.19770</td>\n",
       "      <td>ALEDO, IL US</td>\n",
       "      <td>0.9951</td>\n",
       "      <td>METERS</td>\n",
       "      <td>-90.74470</td>\n",
       "      <td>IL</td>\n",
       "    </tr>\n",
       "    <tr>\n",
       "      <th>COOP:110082</th>\n",
       "      <td>207.3</td>\n",
       "      <td>1948-07-01</td>\n",
       "      <td>2015-11-01</td>\n",
       "      <td>41.05790</td>\n",
       "      <td>ALEXIS 1 SW, IL US</td>\n",
       "      <td>0.0964</td>\n",
       "      <td>METERS</td>\n",
       "      <td>-90.56540</td>\n",
       "      <td>IL</td>\n",
       "    </tr>\n",
       "    <tr>\n",
       "      <th>COOP:110137</th>\n",
       "      <td>132.6</td>\n",
       "      <td>1943-09-01</td>\n",
       "      <td>2015-11-01</td>\n",
       "      <td>38.86702</td>\n",
       "      <td>ALTON MELVIN PRICE LOCK AND DAM, IL US</td>\n",
       "      <td>0.9389</td>\n",
       "      <td>METERS</td>\n",
       "      <td>-90.14886</td>\n",
       "      <td>IL</td>\n",
       "    </tr>\n",
       "  </tbody>\n",
       "</table>\n",
       "</div>"
      ],
      "text/plain": [
       "             elevation    mindate    maxdate  latitude  \\\n",
       "id                                                       \n",
       "COOP:110050      131.1 1990-10-01 2015-11-01  38.54110   \n",
       "COOP:110055      161.5 1942-06-01 2006-04-01  38.37770   \n",
       "COOP:110072      222.5 1931-01-01 2015-11-01  41.19770   \n",
       "COOP:110082      207.3 1948-07-01 2015-11-01  41.05790   \n",
       "COOP:110137      132.6 1943-09-01 2015-11-01  38.86702   \n",
       "\n",
       "                                               name  datacoverage  \\\n",
       "id                                                                  \n",
       "COOP:110050                       ALBERS 1 W, IL US        0.9967   \n",
       "COOP:110055                           ALBION, IL US        0.9518   \n",
       "COOP:110072                            ALEDO, IL US        0.9951   \n",
       "COOP:110082                      ALEXIS 1 SW, IL US        0.0964   \n",
       "COOP:110137  ALTON MELVIN PRICE LOCK AND DAM, IL US        0.9389   \n",
       "\n",
       "            elevationUnit  longitude location_id_state  \n",
       "id                                                      \n",
       "COOP:110050        METERS  -89.62890                IL  \n",
       "COOP:110055        METERS  -88.05690                IL  \n",
       "COOP:110072        METERS  -90.74470                IL  \n",
       "COOP:110082        METERS  -90.56540                IL  \n",
       "COOP:110137        METERS  -90.14886                IL  "
      ]
     },
     "execution_count": 12,
     "metadata": {},
     "output_type": "execute_result"
    }
   ],
   "source": [
    "state_nonull.head()"
   ]
  },
  {
   "cell_type": "code",
   "execution_count": 13,
   "metadata": {},
   "outputs": [],
   "source": [
    "state_nodups_id = np.unique(state_nonull.index, return_index=True)[1]\n",
    "state_nodups = state_nonull.iloc[state_nodups_id]"
   ]
  },
  {
   "cell_type": "code",
   "execution_count": 14,
   "metadata": {},
   "outputs": [
    {
     "data": {
      "text/plain": [
       "15109"
      ]
     },
     "execution_count": 14,
     "metadata": {},
     "output_type": "execute_result"
    }
   ],
   "source": [
    "len(state_nodups)"
   ]
  },
  {
   "cell_type": "code",
   "execution_count": 15,
   "metadata": {},
   "outputs": [
    {
     "data": {
      "text/html": [
       "<div>\n",
       "<style scoped>\n",
       "    .dataframe tbody tr th:only-of-type {\n",
       "        vertical-align: middle;\n",
       "    }\n",
       "\n",
       "    .dataframe tbody tr th {\n",
       "        vertical-align: top;\n",
       "    }\n",
       "\n",
       "    .dataframe thead th {\n",
       "        text-align: right;\n",
       "    }\n",
       "</style>\n",
       "<table border=\"1\" class=\"dataframe\">\n",
       "  <thead>\n",
       "    <tr style=\"text-align: right;\">\n",
       "      <th></th>\n",
       "      <th>elevation</th>\n",
       "      <th>latitude</th>\n",
       "      <th>longitude</th>\n",
       "    </tr>\n",
       "  </thead>\n",
       "  <tbody>\n",
       "    <tr>\n",
       "      <th>count</th>\n",
       "      <td>15109.000000</td>\n",
       "      <td>15109.000000</td>\n",
       "      <td>15109.000000</td>\n",
       "    </tr>\n",
       "    <tr>\n",
       "      <th>mean</th>\n",
       "      <td>264.811305</td>\n",
       "      <td>42.131709</td>\n",
       "      <td>-84.570233</td>\n",
       "    </tr>\n",
       "    <tr>\n",
       "      <th>std</th>\n",
       "      <td>114.776699</td>\n",
       "      <td>2.258785</td>\n",
       "      <td>6.098804</td>\n",
       "    </tr>\n",
       "    <tr>\n",
       "      <th>min</th>\n",
       "      <td>0.000000</td>\n",
       "      <td>35.344720</td>\n",
       "      <td>-98.413060</td>\n",
       "    </tr>\n",
       "    <tr>\n",
       "      <th>25%</th>\n",
       "      <td>195.100000</td>\n",
       "      <td>40.433330</td>\n",
       "      <td>-88.853300</td>\n",
       "    </tr>\n",
       "    <tr>\n",
       "      <th>50%</th>\n",
       "      <td>248.700000</td>\n",
       "      <td>41.783330</td>\n",
       "      <td>-85.662348</td>\n",
       "    </tr>\n",
       "    <tr>\n",
       "      <th>75%</th>\n",
       "      <td>316.400000</td>\n",
       "      <td>43.466670</td>\n",
       "      <td>-79.083340</td>\n",
       "    </tr>\n",
       "    <tr>\n",
       "      <th>max</th>\n",
       "      <td>1482.900000</td>\n",
       "      <td>49.318330</td>\n",
       "      <td>-71.137500</td>\n",
       "    </tr>\n",
       "  </tbody>\n",
       "</table>\n",
       "</div>"
      ],
      "text/plain": [
       "          elevation      latitude     longitude\n",
       "count  15109.000000  15109.000000  15109.000000\n",
       "mean     264.811305     42.131709    -84.570233\n",
       "std      114.776699      2.258785      6.098804\n",
       "min        0.000000     35.344720    -98.413060\n",
       "25%      195.100000     40.433330    -88.853300\n",
       "50%      248.700000     41.783330    -85.662348\n",
       "75%      316.400000     43.466670    -79.083340\n",
       "max     1482.900000     49.318330    -71.137500"
      ]
     },
     "execution_count": 15,
     "metadata": {},
     "output_type": "execute_result"
    }
   ],
   "source": [
    "coords_st = state_nodups[['elevation','latitude','longitude']]\n",
    "coords_st.describe()"
   ]
  },
  {
   "cell_type": "code",
   "execution_count": 16,
   "metadata": {},
   "outputs": [
    {
     "data": {
      "text/html": [
       "<div>\n",
       "<style scoped>\n",
       "    .dataframe tbody tr th:only-of-type {\n",
       "        vertical-align: middle;\n",
       "    }\n",
       "\n",
       "    .dataframe tbody tr th {\n",
       "        vertical-align: top;\n",
       "    }\n",
       "\n",
       "    .dataframe thead th {\n",
       "        text-align: right;\n",
       "    }\n",
       "</style>\n",
       "<table border=\"1\" class=\"dataframe\">\n",
       "  <thead>\n",
       "    <tr style=\"text-align: right;\">\n",
       "      <th></th>\n",
       "      <th>Lakes</th>\n",
       "      <th>Elevationa (m)</th>\n",
       "      <th>left-up</th>\n",
       "      <th>lef-down</th>\n",
       "      <th>right-down</th>\n",
       "      <th>right-up</th>\n",
       "    </tr>\n",
       "  </thead>\n",
       "  <tbody>\n",
       "    <tr>\n",
       "      <th>0</th>\n",
       "      <td>Superior</td>\n",
       "      <td>183</td>\n",
       "      <td>(48.99057766, -92.24770595)</td>\n",
       "      <td>(46.43517183, -92.16469881)</td>\n",
       "      <td>(46.47459248, -84.32534402)</td>\n",
       "      <td>(48.93016539, -84.4071318)</td>\n",
       "    </tr>\n",
       "    <tr>\n",
       "      <th>1</th>\n",
       "      <td>Michigan</td>\n",
       "      <td>176</td>\n",
       "      <td>(46.22897845, -88.20521498)</td>\n",
       "      <td>(41.60750601, -88.19972181)</td>\n",
       "      <td>(41.64217639, -85.00819349)</td>\n",
       "      <td>(46.2305618, -85.00251263)</td>\n",
       "    </tr>\n",
       "    <tr>\n",
       "      <th>2</th>\n",
       "      <td>Huron</td>\n",
       "      <td>176</td>\n",
       "      <td>(46.40526359, -84.763874)</td>\n",
       "      <td>(43.07614816, -84.80171647)</td>\n",
       "      <td>(43.06979478, -79.87373863)</td>\n",
       "      <td>(46.09853892, -79.93355375)</td>\n",
       "    </tr>\n",
       "    <tr>\n",
       "      <th>3</th>\n",
       "      <td>Erie</td>\n",
       "      <td>173</td>\n",
       "      <td>(42.80865899, -83.43929641)</td>\n",
       "      <td>(41.34261326, -83.4881252)</td>\n",
       "      <td>(-78.92269619, -78.92269619)</td>\n",
       "      <td>(42.89423587, -78.83968905)</td>\n",
       "    </tr>\n",
       "    <tr>\n",
       "      <th>4</th>\n",
       "      <td>Ontario</td>\n",
       "      <td>74</td>\n",
       "      <td>(44.18597098, -79.75643777)</td>\n",
       "      <td>(43.20266513, -79.77230758)</td>\n",
       "      <td>(43.22835316, -76.18466177)</td>\n",
       "      <td>(44.19877154, -76.2444769)</td>\n",
       "    </tr>\n",
       "  </tbody>\n",
       "</table>\n",
       "</div>"
      ],
      "text/plain": [
       "      Lakes  Elevationa (m)                      left-up  \\\n",
       "0  Superior             183  (48.99057766, -92.24770595)   \n",
       "1  Michigan             176  (46.22897845, -88.20521498)   \n",
       "2     Huron             176    (46.40526359, -84.763874)   \n",
       "3      Erie             173  (42.80865899, -83.43929641)   \n",
       "4   Ontario              74  (44.18597098, -79.75643777)   \n",
       "\n",
       "                      lef-down                    right-down  \\\n",
       "0  (46.43517183, -92.16469881)   (46.47459248, -84.32534402)   \n",
       "1  (41.60750601, -88.19972181)   (41.64217639, -85.00819349)   \n",
       "2  (43.07614816, -84.80171647)   (43.06979478, -79.87373863)   \n",
       "3   (41.34261326, -83.4881252)  (-78.92269619, -78.92269619)   \n",
       "4  (43.20266513, -79.77230758)   (43.22835316, -76.18466177)   \n",
       "\n",
       "                      right-up  \n",
       "0   (48.93016539, -84.4071318)  \n",
       "1   (46.2305618, -85.00251263)  \n",
       "2  (46.09853892, -79.93355375)  \n",
       "3  (42.89423587, -78.83968905)  \n",
       "4   (44.19877154, -76.2444769)  "
      ]
     },
     "execution_count": 16,
     "metadata": {},
     "output_type": "execute_result"
    }
   ],
   "source": [
    "lake_coords = pd.read_csv(os.path.join('..','data_files','clean_data','lake_stats.csv'))[['Lakes','Elevationa (m)','left-up', 'lef-down', 'right-down', 'right-up']]\n",
    "lake_coords"
   ]
  },
  {
   "cell_type": "code",
   "execution_count": 17,
   "metadata": {},
   "outputs": [],
   "source": [
    "def lake_box(lake):\n",
    "    idx = lake_coords.index[lake_coords['Lakes']==lake].tolist()[0]\n",
    "    lat_ls = []\n",
    "    lng_ls = []\n",
    "    ele = 0\n",
    "    for e in lake_coords.iloc[idx].transpose():\n",
    "        if isinstance(e,str):\n",
    "            if e[0] == '(':\n",
    "                lat = e.strip('()').split(',')[0]\n",
    "                lng = e.strip('()').split(',')[1]\n",
    "                lat_ls.append(round(float(lat),5))\n",
    "                lng_ls.append(round(float(lng),5))\n",
    "        elif isinstance(e,int):\n",
    "            ele_ls = e\n",
    "    return lat_ls,lng_ls,ele"
   ]
  },
  {
   "cell_type": "code",
   "execution_count": 18,
   "metadata": {},
   "outputs": [],
   "source": [
    "def check_coords(lake,station_id):\n",
    "    lat,lng,ele = lake_box(lake)\n",
    "    s_lat,s_lng,s_ele = state_nodups.loc[station_id][['latitude','longitude','elevation']]\n",
    "    inside = False\n",
    "    if (s_lng>=min(lng)):\n",
    "        if (s_lng>=max(lng)+.0001):\n",
    "            if (s_lat>=min(lat)):\n",
    "                if (s_lat>=max(lat)+.0001):\n",
    "                    if abs(s_ele-ele) <= 3:\n",
    "                        inside = True\n",
    "    return inside"
   ]
  },
  {
   "cell_type": "code",
   "execution_count": 19,
   "metadata": {},
   "outputs": [
    {
     "data": {
      "text/plain": [
       "0"
      ]
     },
     "execution_count": 19,
     "metadata": {},
     "output_type": "execute_result"
    }
   ],
   "source": [
    "state_inside = pd.DataFrame()\n",
    "for index,row in state_nodups.iterrows():\n",
    "    if check_coords('Superior',index):\n",
    "        state_inside = state_inside.append(row)\n",
    "len(state_inside)"
   ]
  },
  {
   "cell_type": "code",
   "execution_count": 20,
   "metadata": {},
   "outputs": [],
   "source": [
    "lake_stations = {}\n",
    "for key,val in lake_st.items():\n",
    "    lake_stations[key] = state_nodups.index[state_nodups['location_id_state'].isin(val)].tolist()"
   ]
  },
  {
   "cell_type": "code",
   "execution_count": 21,
   "metadata": {},
   "outputs": [],
   "source": [
    "for key,val in lake_stations.items():\n",
    "    state_nonull.loc[val].to_csv(os.path.join('..','data_files','prep_data',f'{key}_stations.csv'))"
   ]
  },
  {
   "cell_type": "code",
   "execution_count": 22,
   "metadata": {},
   "outputs": [],
   "source": [
    "state_nodups.to_csv(os.path.join('..','data_files','prep_data','stations.csv'))"
   ]
  },
  {
   "cell_type": "code",
   "execution_count": 23,
   "metadata": {},
   "outputs": [
    {
     "data": {
      "text/plain": [
       "15109"
      ]
     },
     "execution_count": 23,
     "metadata": {},
     "output_type": "execute_result"
    }
   ],
   "source": [
    "len(state_nodups)"
   ]
  },
  {
   "cell_type": "code",
   "execution_count": 24,
   "metadata": {},
   "outputs": [
    {
     "data": {
      "text/plain": [
       "1043"
      ]
     },
     "execution_count": 24,
     "metadata": {},
     "output_type": "execute_result"
    }
   ],
   "source": [
    "state_convert = time_range(state_nodups)\n",
    "len(state_convert)"
   ]
  },
  {
   "cell_type": "code",
   "execution_count": null,
   "metadata": {},
   "outputs": [],
   "source": []
  }
 ],
 "metadata": {
  "kernelspec": {
   "display_name": "project-1",
   "language": "python",
   "name": "python3"
  },
  "language_info": {
   "codemirror_mode": {
    "name": "ipython",
    "version": 3
   },
   "file_extension": ".py",
   "mimetype": "text/x-python",
   "name": "python",
   "nbconvert_exporter": "python",
   "pygments_lexer": "ipython3",
   "version": "3.7.4"
  }
 },
 "nbformat": 4,
 "nbformat_minor": 4
}
