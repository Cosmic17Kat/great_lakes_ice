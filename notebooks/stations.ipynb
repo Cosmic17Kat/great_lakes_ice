{
 "cells": [
  {
   "cell_type": "code",
   "execution_count": 1,
   "metadata": {},
   "outputs": [],
   "source": [
    "import pandas as pd\n",
    "import os\n",
    "import requests\n",
    "import datetime as dt\n",
    "from config import noaa_token as token"
   ]
  },
  {
   "cell_type": "code",
   "execution_count": 2,
   "metadata": {},
   "outputs": [],
   "source": [
    "#variables\n",
    "base = 'https://www.ncdc.noaa.gov/cdo-web/api/v2/'\n",
    "header = {'token':token,\n",
    "          'Content-Type':'application/json'}\n",
    "\n",
    "state_ids = {'Illinois':'',\n",
    "            'Indiana':'',\n",
    "            'Michigan':'',\n",
    "            'Minnesota':'',\n",
    "            'New York':'',\n",
    "            'Ohio':'',\n",
    "            'Pennsylvania':'',\n",
    "            'Wisconsin':'',}"
   ]
  },
  {
   "cell_type": "code",
   "execution_count": 3,
   "metadata": {},
   "outputs": [],
   "source": [
    "#get count\n",
    "def get_c(json):\n",
    "    return json['metadata']['resultset']['count']\n",
    "\n",
    "def gather(endpt,load):\n",
    "    initial = requests.get(base+endpt,headers=header,params=load).json()\n",
    "    count = get_c(initial)\n",
    "    json = initial['results']\n",
    "    offset = 1000\n",
    "    while offset < count:\n",
    "        load['offset'] = offset\n",
    "        json += requests.get(base+endpt,headers=header,params=load).json()['results']\n",
    "        offset += 1000\n",
    "    return pd.DataFrame(json)"
   ]
  },
  {
   "cell_type": "code",
   "execution_count": 13,
   "metadata": {},
   "outputs": [],
   "source": [
    "#Return only rows in daterange\n",
    "#currently dates are hardcoded - can we do this programatically\n",
    "def time_range(df):\n",
    "    df_min = df[df['mindate']<='1972-12-19']\n",
    "    df_total = df_min[df_min['maxdate']>='2016-05-05']\n",
    "    return df_total\n",
    "\n",
    "# def coords_range(df):\n",
    "#     df_lat = df[df['latitude']]\n",
    "#     df_lng = \n",
    "#     df_ele = \n",
    "#     return df_ele"
   ]
  },
  {
   "cell_type": "code",
   "execution_count": 4,
   "metadata": {},
   "outputs": [
    {
     "data": {
      "text/plain": [
       "200"
      ]
     },
     "execution_count": 4,
     "metadata": {},
     "output_type": "execute_result"
    }
   ],
   "source": [
    "location_ids = requests.get(base+'locations',headers=header,params={'locationcategoryid':'ST','limit':100})\n",
    "location_ids.status_code"
   ]
  },
  {
   "cell_type": "code",
   "execution_count": 5,
   "metadata": {},
   "outputs": [
    {
     "data": {
      "text/html": [
       "<div>\n",
       "<style scoped>\n",
       "    .dataframe tbody tr th:only-of-type {\n",
       "        vertical-align: middle;\n",
       "    }\n",
       "\n",
       "    .dataframe tbody tr th {\n",
       "        vertical-align: top;\n",
       "    }\n",
       "\n",
       "    .dataframe thead th {\n",
       "        text-align: right;\n",
       "    }\n",
       "</style>\n",
       "<table border=\"1\" class=\"dataframe\">\n",
       "  <thead>\n",
       "    <tr style=\"text-align: right;\">\n",
       "      <th></th>\n",
       "      <th>mindate</th>\n",
       "      <th>maxdate</th>\n",
       "      <th>name</th>\n",
       "      <th>datacoverage</th>\n",
       "      <th>id</th>\n",
       "    </tr>\n",
       "  </thead>\n",
       "  <tbody>\n",
       "    <tr>\n",
       "      <th>0</th>\n",
       "      <td>1888-02-01</td>\n",
       "      <td>2020-01-09</td>\n",
       "      <td>Alabama</td>\n",
       "      <td>1</td>\n",
       "      <td>FIPS:01</td>\n",
       "    </tr>\n",
       "    <tr>\n",
       "      <th>1</th>\n",
       "      <td>1893-09-01</td>\n",
       "      <td>2020-01-09</td>\n",
       "      <td>Alaska</td>\n",
       "      <td>1</td>\n",
       "      <td>FIPS:02</td>\n",
       "    </tr>\n",
       "    <tr>\n",
       "      <th>2</th>\n",
       "      <td>1867-08-01</td>\n",
       "      <td>2020-01-09</td>\n",
       "      <td>Arizona</td>\n",
       "      <td>1</td>\n",
       "      <td>FIPS:04</td>\n",
       "    </tr>\n",
       "    <tr>\n",
       "      <th>3</th>\n",
       "      <td>1871-07-01</td>\n",
       "      <td>2020-01-09</td>\n",
       "      <td>Arkansas</td>\n",
       "      <td>1</td>\n",
       "      <td>FIPS:05</td>\n",
       "    </tr>\n",
       "    <tr>\n",
       "      <th>4</th>\n",
       "      <td>1850-10-01</td>\n",
       "      <td>2020-01-09</td>\n",
       "      <td>California</td>\n",
       "      <td>1</td>\n",
       "      <td>FIPS:06</td>\n",
       "    </tr>\n",
       "  </tbody>\n",
       "</table>\n",
       "</div>"
      ],
      "text/plain": [
       "      mindate     maxdate        name  datacoverage       id\n",
       "0  1888-02-01  2020-01-09     Alabama             1  FIPS:01\n",
       "1  1893-09-01  2020-01-09      Alaska             1  FIPS:02\n",
       "2  1867-08-01  2020-01-09     Arizona             1  FIPS:04\n",
       "3  1871-07-01  2020-01-09    Arkansas             1  FIPS:05\n",
       "4  1850-10-01  2020-01-09  California             1  FIPS:06"
      ]
     },
     "execution_count": 5,
     "metadata": {},
     "output_type": "execute_result"
    }
   ],
   "source": [
    "all_states = pd.DataFrame(location_ids.json()['results'])\n",
    "all_states.head()"
   ]
  },
  {
   "cell_type": "code",
   "execution_count": 6,
   "metadata": {},
   "outputs": [
    {
     "data": {
      "text/plain": [
       "{'Illinois': 'FIPS:17',\n",
       " 'Indiana': 'FIPS:18',\n",
       " 'Michigan': 'FIPS:26',\n",
       " 'Minnesota': 'FIPS:27',\n",
       " 'New York': 'FIPS:36',\n",
       " 'Ohio': 'FIPS:39',\n",
       " 'Pennsylvania': 'FIPS:42',\n",
       " 'Wisconsin': 'FIPS:55'}"
      ]
     },
     "execution_count": 6,
     "metadata": {},
     "output_type": "execute_result"
    }
   ],
   "source": [
    "for state in state_ids.keys():\n",
    "    state_ids[state] = all_states[all_states['name']==state]['id'].values[0]\n",
    "state_ids"
   ]
  },
  {
   "cell_type": "code",
   "execution_count": 7,
   "metadata": {},
   "outputs": [
    {
     "name": "stdout",
     "output_type": "stream",
     "text": [
      "Illinois: 2387\n",
      "Indiana: 2030\n",
      "Michigan: 1833\n",
      "Minnesota: 1792\n",
      "New York: 2313\n",
      "Ohio: 1570\n",
      "Pennsylvania: 2031\n",
      "Wisconsin: 1431\n",
      "Total: 15387\n"
     ]
    }
   ],
   "source": [
    "state_data = pd.DataFrame()\n",
    "for state,id in state_ids.items():\n",
    "    data = gather('stations',{'locationid':id,'limit':'1000'})\n",
    "    print(state + ': ' + str(len(data)))\n",
    "    data['location_id_state'] = state\n",
    "    state_data = state_data.append(data,ignore_index=True)\n",
    "print('Total: '+str(len(state_data)))"
   ]
  },
  {
   "cell_type": "code",
   "execution_count": 8,
   "metadata": {},
   "outputs": [
    {
     "data": {
      "text/html": [
       "<div>\n",
       "<style scoped>\n",
       "    .dataframe tbody tr th:only-of-type {\n",
       "        vertical-align: middle;\n",
       "    }\n",
       "\n",
       "    .dataframe tbody tr th {\n",
       "        vertical-align: top;\n",
       "    }\n",
       "\n",
       "    .dataframe thead th {\n",
       "        text-align: right;\n",
       "    }\n",
       "</style>\n",
       "<table border=\"1\" class=\"dataframe\">\n",
       "  <thead>\n",
       "    <tr style=\"text-align: right;\">\n",
       "      <th></th>\n",
       "      <th>elevation</th>\n",
       "      <th>mindate</th>\n",
       "      <th>maxdate</th>\n",
       "      <th>latitude</th>\n",
       "      <th>name</th>\n",
       "      <th>datacoverage</th>\n",
       "      <th>elevationUnit</th>\n",
       "      <th>longitude</th>\n",
       "      <th>location_id_state</th>\n",
       "    </tr>\n",
       "    <tr>\n",
       "      <th>id</th>\n",
       "      <th></th>\n",
       "      <th></th>\n",
       "      <th></th>\n",
       "      <th></th>\n",
       "      <th></th>\n",
       "      <th></th>\n",
       "      <th></th>\n",
       "      <th></th>\n",
       "      <th></th>\n",
       "    </tr>\n",
       "  </thead>\n",
       "  <tbody>\n",
       "    <tr>\n",
       "      <th>COOP:110050</th>\n",
       "      <td>131.1</td>\n",
       "      <td>1990-10-01</td>\n",
       "      <td>2015-11-01</td>\n",
       "      <td>38.54110</td>\n",
       "      <td>ALBERS 1 W, IL US</td>\n",
       "      <td>0.9967</td>\n",
       "      <td>METERS</td>\n",
       "      <td>-89.62890</td>\n",
       "      <td>Illinois</td>\n",
       "    </tr>\n",
       "    <tr>\n",
       "      <th>COOP:110055</th>\n",
       "      <td>161.5</td>\n",
       "      <td>1942-06-01</td>\n",
       "      <td>2006-04-01</td>\n",
       "      <td>38.37770</td>\n",
       "      <td>ALBION, IL US</td>\n",
       "      <td>0.9518</td>\n",
       "      <td>METERS</td>\n",
       "      <td>-88.05690</td>\n",
       "      <td>Illinois</td>\n",
       "    </tr>\n",
       "    <tr>\n",
       "      <th>COOP:110072</th>\n",
       "      <td>222.5</td>\n",
       "      <td>1931-01-01</td>\n",
       "      <td>2015-11-01</td>\n",
       "      <td>41.19770</td>\n",
       "      <td>ALEDO, IL US</td>\n",
       "      <td>0.9951</td>\n",
       "      <td>METERS</td>\n",
       "      <td>-90.74470</td>\n",
       "      <td>Illinois</td>\n",
       "    </tr>\n",
       "    <tr>\n",
       "      <th>COOP:110082</th>\n",
       "      <td>207.3</td>\n",
       "      <td>1948-07-01</td>\n",
       "      <td>2015-11-01</td>\n",
       "      <td>41.05790</td>\n",
       "      <td>ALEXIS 1 SW, IL US</td>\n",
       "      <td>0.0964</td>\n",
       "      <td>METERS</td>\n",
       "      <td>-90.56540</td>\n",
       "      <td>Illinois</td>\n",
       "    </tr>\n",
       "    <tr>\n",
       "      <th>COOP:110137</th>\n",
       "      <td>132.6</td>\n",
       "      <td>1943-09-01</td>\n",
       "      <td>2015-11-01</td>\n",
       "      <td>38.86702</td>\n",
       "      <td>ALTON MELVIN PRICE LOCK AND DAM, IL US</td>\n",
       "      <td>0.9389</td>\n",
       "      <td>METERS</td>\n",
       "      <td>-90.14886</td>\n",
       "      <td>Illinois</td>\n",
       "    </tr>\n",
       "  </tbody>\n",
       "</table>\n",
       "</div>"
      ],
      "text/plain": [
       "             elevation     mindate     maxdate  latitude  \\\n",
       "id                                                         \n",
       "COOP:110050      131.1  1990-10-01  2015-11-01  38.54110   \n",
       "COOP:110055      161.5  1942-06-01  2006-04-01  38.37770   \n",
       "COOP:110072      222.5  1931-01-01  2015-11-01  41.19770   \n",
       "COOP:110082      207.3  1948-07-01  2015-11-01  41.05790   \n",
       "COOP:110137      132.6  1943-09-01  2015-11-01  38.86702   \n",
       "\n",
       "                                               name  datacoverage  \\\n",
       "id                                                                  \n",
       "COOP:110050                       ALBERS 1 W, IL US        0.9967   \n",
       "COOP:110055                           ALBION, IL US        0.9518   \n",
       "COOP:110072                            ALEDO, IL US        0.9951   \n",
       "COOP:110082                      ALEXIS 1 SW, IL US        0.0964   \n",
       "COOP:110137  ALTON MELVIN PRICE LOCK AND DAM, IL US        0.9389   \n",
       "\n",
       "            elevationUnit  longitude location_id_state  \n",
       "id                                                      \n",
       "COOP:110050        METERS  -89.62890          Illinois  \n",
       "COOP:110055        METERS  -88.05690          Illinois  \n",
       "COOP:110072        METERS  -90.74470          Illinois  \n",
       "COOP:110082        METERS  -90.56540          Illinois  \n",
       "COOP:110137        METERS  -90.14886          Illinois  "
      ]
     },
     "execution_count": 8,
     "metadata": {},
     "output_type": "execute_result"
    }
   ],
   "source": [
    "state_data = state_data.set_index('id')\n",
    "state_data.head()"
   ]
  },
  {
   "cell_type": "code",
   "execution_count": 9,
   "metadata": {},
   "outputs": [],
   "source": [
    "state_data['mindate'] = pd.to_datetime(state_data['mindate'])\n",
    "state_data['maxdate'] = pd.to_datetime(state_data['maxdate'])"
   ]
  },
  {
   "cell_type": "code",
   "execution_count": 10,
   "metadata": {},
   "outputs": [
    {
     "data": {
      "text/plain": [
       "1057"
      ]
     },
     "execution_count": 10,
     "metadata": {},
     "output_type": "execute_result"
    }
   ],
   "source": [
    "state_min = state_data[state_data['mindate']<='1972-12-19']\n",
    "state_time = state_min[state_min['maxdate']>='2016-05-05']\n",
    "len(state_time)"
   ]
  },
  {
   "cell_type": "code",
   "execution_count": 12,
   "metadata": {},
   "outputs": [],
   "source": [
    "state_nonull = state_time[pd.notnull(state_time['elevation'])]"
   ]
  },
  {
   "cell_type": "code",
   "execution_count": 15,
   "metadata": {},
   "outputs": [],
   "source": [
    "state_intime = time_range(state_nonull)"
   ]
  },
  {
   "cell_type": "code",
   "execution_count": 16,
   "metadata": {},
   "outputs": [
    {
     "data": {
      "text/html": [
       "<div>\n",
       "<style scoped>\n",
       "    .dataframe tbody tr th:only-of-type {\n",
       "        vertical-align: middle;\n",
       "    }\n",
       "\n",
       "    .dataframe tbody tr th {\n",
       "        vertical-align: top;\n",
       "    }\n",
       "\n",
       "    .dataframe thead th {\n",
       "        text-align: right;\n",
       "    }\n",
       "</style>\n",
       "<table border=\"1\" class=\"dataframe\">\n",
       "  <thead>\n",
       "    <tr style=\"text-align: right;\">\n",
       "      <th></th>\n",
       "      <th>elevation</th>\n",
       "      <th>mindate</th>\n",
       "      <th>maxdate</th>\n",
       "      <th>latitude</th>\n",
       "      <th>name</th>\n",
       "      <th>datacoverage</th>\n",
       "      <th>elevationUnit</th>\n",
       "      <th>longitude</th>\n",
       "      <th>location_id_state</th>\n",
       "    </tr>\n",
       "    <tr>\n",
       "      <th>id</th>\n",
       "      <th></th>\n",
       "      <th></th>\n",
       "      <th></th>\n",
       "      <th></th>\n",
       "      <th></th>\n",
       "      <th></th>\n",
       "      <th></th>\n",
       "      <th></th>\n",
       "      <th></th>\n",
       "    </tr>\n",
       "  </thead>\n",
       "  <tbody>\n",
       "    <tr>\n",
       "      <th>GHCND:USC00110072</th>\n",
       "      <td>222.5</td>\n",
       "      <td>1901-01-01</td>\n",
       "      <td>2020-01-08</td>\n",
       "      <td>41.19770</td>\n",
       "      <td>ALEDO, IL US</td>\n",
       "      <td>1.0000</td>\n",
       "      <td>METERS</td>\n",
       "      <td>-90.74470</td>\n",
       "      <td>Illinois</td>\n",
       "    </tr>\n",
       "    <tr>\n",
       "      <th>GHCND:USC00110082</th>\n",
       "      <td>207.3</td>\n",
       "      <td>1948-07-01</td>\n",
       "      <td>2020-01-04</td>\n",
       "      <td>41.05790</td>\n",
       "      <td>ALEXIS 1 SW, IL US</td>\n",
       "      <td>0.9995</td>\n",
       "      <td>METERS</td>\n",
       "      <td>-90.56540</td>\n",
       "      <td>Illinois</td>\n",
       "    </tr>\n",
       "    <tr>\n",
       "      <th>GHCND:USC00110137</th>\n",
       "      <td>132.6</td>\n",
       "      <td>1892-12-01</td>\n",
       "      <td>2020-01-08</td>\n",
       "      <td>38.86702</td>\n",
       "      <td>ALTON MELVIN PRICE LOCK AND DAM, IL US</td>\n",
       "      <td>1.0000</td>\n",
       "      <td>METERS</td>\n",
       "      <td>-90.14886</td>\n",
       "      <td>Illinois</td>\n",
       "    </tr>\n",
       "    <tr>\n",
       "      <th>GHCND:USC00110330</th>\n",
       "      <td>207.3</td>\n",
       "      <td>1948-07-01</td>\n",
       "      <td>2020-01-08</td>\n",
       "      <td>40.23330</td>\n",
       "      <td>AUGUSTA, IL US</td>\n",
       "      <td>1.0000</td>\n",
       "      <td>METERS</td>\n",
       "      <td>-90.94710</td>\n",
       "      <td>Illinois</td>\n",
       "    </tr>\n",
       "    <tr>\n",
       "      <th>GHCND:USC00110338</th>\n",
       "      <td>201.2</td>\n",
       "      <td>1893-01-01</td>\n",
       "      <td>2020-01-08</td>\n",
       "      <td>41.78038</td>\n",
       "      <td>AURORA, IL US</td>\n",
       "      <td>1.0000</td>\n",
       "      <td>METERS</td>\n",
       "      <td>-88.30925</td>\n",
       "      <td>Illinois</td>\n",
       "    </tr>\n",
       "  </tbody>\n",
       "</table>\n",
       "</div>"
      ],
      "text/plain": [
       "                   elevation    mindate    maxdate  latitude  \\\n",
       "id                                                             \n",
       "GHCND:USC00110072      222.5 1901-01-01 2020-01-08  41.19770   \n",
       "GHCND:USC00110082      207.3 1948-07-01 2020-01-04  41.05790   \n",
       "GHCND:USC00110137      132.6 1892-12-01 2020-01-08  38.86702   \n",
       "GHCND:USC00110330      207.3 1948-07-01 2020-01-08  40.23330   \n",
       "GHCND:USC00110338      201.2 1893-01-01 2020-01-08  41.78038   \n",
       "\n",
       "                                                     name  datacoverage  \\\n",
       "id                                                                        \n",
       "GHCND:USC00110072                            ALEDO, IL US        1.0000   \n",
       "GHCND:USC00110082                      ALEXIS 1 SW, IL US        0.9995   \n",
       "GHCND:USC00110137  ALTON MELVIN PRICE LOCK AND DAM, IL US        1.0000   \n",
       "GHCND:USC00110330                          AUGUSTA, IL US        1.0000   \n",
       "GHCND:USC00110338                           AURORA, IL US        1.0000   \n",
       "\n",
       "                  elevationUnit  longitude location_id_state  \n",
       "id                                                            \n",
       "GHCND:USC00110072        METERS  -90.74470          Illinois  \n",
       "GHCND:USC00110082        METERS  -90.56540          Illinois  \n",
       "GHCND:USC00110137        METERS  -90.14886          Illinois  \n",
       "GHCND:USC00110330        METERS  -90.94710          Illinois  \n",
       "GHCND:USC00110338        METERS  -88.30925          Illinois  "
      ]
     },
     "execution_count": 16,
     "metadata": {},
     "output_type": "execute_result"
    }
   ],
   "source": [
    "state_intime.head()"
   ]
  },
  {
   "cell_type": "code",
   "execution_count": null,
   "metadata": {},
   "outputs": [],
   "source": [
    "coords_st = state_data[['elevation','latitude','longitude']]\n",
    "coords_st.describe()"
   ]
  }
 ],
 "metadata": {
  "kernelspec": {
   "display_name": "project-1",
   "language": "python",
   "name": "python3"
  },
  "language_info": {
   "codemirror_mode": {
    "name": "ipython",
    "version": 3
   },
   "file_extension": ".py",
   "mimetype": "text/x-python",
   "name": "python",
   "nbconvert_exporter": "python",
   "pygments_lexer": "ipython3",
   "version": "3.7.4"
  }
 },
 "nbformat": 4,
 "nbformat_minor": 4
}
