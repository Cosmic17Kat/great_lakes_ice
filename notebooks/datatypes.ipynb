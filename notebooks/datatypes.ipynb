{
 "cells": [
  {
   "cell_type": "code",
   "execution_count": 1,
   "metadata": {},
   "outputs": [],
   "source": [
    "import pandas as pd\n",
    "import os\n",
    "import requests\n",
    "import datetime as dt\n",
    "from config import noaa_token as token"
   ]
  },
  {
   "cell_type": "code",
   "execution_count": 2,
   "metadata": {},
   "outputs": [],
   "source": [
    "#variables\n",
    "base = 'https://www.ncdc.noaa.gov/cdo-web/api/v2/'\n",
    "header = {'token':token,\n",
    "          'Content-Type':'application/json'}\n",
    "\n",
    "state_ids = {'PA':'FIPS:42',\n",
    "            'OH':'FIPS:39',\n",
    "            'MI':'FIPS:26',\n",
    "            'IL':'FIPS:17',\n",
    "            'WI':'FIPS:55',\n",
    "            'MN':'FIPS:27',\n",
    "            'IA':'FIPS:18',\n",
    "            'NY':'FIPS:36'}\n",
    "\n",
    "variables = {'ice_thinkness':'THIC',\n",
    "            'precipitation':'PRCP',\n",
    "            }"
   ]
  },
  {
   "cell_type": "code",
   "execution_count": 3,
   "metadata": {},
   "outputs": [],
   "source": [
    "#get count\n",
    "def get_c(json):\n",
    "    return json['metadata']['resultset']['count']\n",
    "\n",
    "def gather(endpt,load):\n",
    "    initial = requests.get(base+endpt,headers=header,params=load).json()\n",
    "    count = get_c(initial)\n",
    "    json = initial['results']\n",
    "    offset = 1000\n",
    "    while offset < count:\n",
    "        load['offset'] = offset\n",
    "        json += requests.get(base+endpt,headers=header,params=load).json()['results']\n",
    "        offset += 1000\n",
    "    return pd.DataFrame(json)"
   ]
  },
  {
   "cell_type": "code",
   "execution_count": 4,
   "metadata": {},
   "outputs": [],
   "source": [
    "variables = gather('datatypes',{'limit':'1000'})"
   ]
  },
  {
   "cell_type": "code",
   "execution_count": 5,
   "metadata": {},
   "outputs": [
    {
     "data": {
      "text/plain": [
       "1528"
      ]
     },
     "execution_count": 5,
     "metadata": {},
     "output_type": "execute_result"
    }
   ],
   "source": [
    "len(variables)"
   ]
  },
  {
   "cell_type": "code",
   "execution_count": 6,
   "metadata": {},
   "outputs": [],
   "source": [
    "variables['mindate'] = pd.to_datetime(variables['mindate'])\n",
    "variables['maxdate'] = pd.to_datetime(variables['maxdate'])"
   ]
  },
  {
   "cell_type": "code",
   "execution_count": 7,
   "metadata": {},
   "outputs": [
    {
     "data": {
      "text/plain": [
       "78"
      ]
     },
     "execution_count": 7,
     "metadata": {},
     "output_type": "execute_result"
    }
   ],
   "source": [
    "v_mintimes = variables[variables['mindate']<='1972-12-19']\n",
    "v_times = v_mintimes[v_mintimes['maxdate']>='2016-05-05']\n",
    "len(v_times)"
   ]
  },
  {
   "cell_type": "code",
   "execution_count": 9,
   "metadata": {},
   "outputs": [],
   "source": [
    "v_times.to_csv(os.path.join('..', 'data_files', 'variables.csv'))"
   ]
  },
  {
   "cell_type": "code",
   "execution_count": 13,
   "metadata": {},
   "outputs": [
    {
     "data": {
      "text/html": [
       "<div>\n",
       "<style scoped>\n",
       "    .dataframe tbody tr th:only-of-type {\n",
       "        vertical-align: middle;\n",
       "    }\n",
       "\n",
       "    .dataframe tbody tr th {\n",
       "        vertical-align: top;\n",
       "    }\n",
       "\n",
       "    .dataframe thead th {\n",
       "        text-align: right;\n",
       "    }\n",
       "</style>\n",
       "<table border=\"1\" class=\"dataframe\">\n",
       "  <thead>\n",
       "    <tr style=\"text-align: right;\">\n",
       "      <th></th>\n",
       "      <th>mindate</th>\n",
       "      <th>maxdate</th>\n",
       "      <th>name</th>\n",
       "      <th>datacoverage</th>\n",
       "    </tr>\n",
       "    <tr>\n",
       "      <th>id</th>\n",
       "      <th></th>\n",
       "      <th></th>\n",
       "      <th></th>\n",
       "      <th></th>\n",
       "    </tr>\n",
       "  </thead>\n",
       "  <tbody>\n",
       "    <tr>\n",
       "      <th>DT32</th>\n",
       "      <td>1763-01-01</td>\n",
       "      <td>2019-12-01</td>\n",
       "      <td>Number days with minimum temperature less than...</td>\n",
       "      <td>1.0</td>\n",
       "    </tr>\n",
       "    <tr>\n",
       "      <th>DX32</th>\n",
       "      <td>1763-01-01</td>\n",
       "      <td>2019-12-01</td>\n",
       "      <td>Number days with maximum temperature &lt; 32 F.</td>\n",
       "      <td>1.0</td>\n",
       "    </tr>\n",
       "    <tr>\n",
       "      <th>PRCP</th>\n",
       "      <td>1781-01-01</td>\n",
       "      <td>2020-01-08</td>\n",
       "      <td>Precipitation</td>\n",
       "      <td>1.0</td>\n",
       "    </tr>\n",
       "    <tr>\n",
       "      <th>SNWD</th>\n",
       "      <td>1857-01-18</td>\n",
       "      <td>2020-01-08</td>\n",
       "      <td>Snow depth</td>\n",
       "      <td>1.0</td>\n",
       "    </tr>\n",
       "    <tr>\n",
       "      <th>THIC</th>\n",
       "      <td>1926-03-17</td>\n",
       "      <td>2019-11-30</td>\n",
       "      <td>Thickness of ice on water</td>\n",
       "      <td>1.0</td>\n",
       "    </tr>\n",
       "    <tr>\n",
       "      <th>TMIN</th>\n",
       "      <td>1763-01-01</td>\n",
       "      <td>2020-01-08</td>\n",
       "      <td>Minimum temperature</td>\n",
       "      <td>1.0</td>\n",
       "    </tr>\n",
       "    <tr>\n",
       "      <th>WDMV</th>\n",
       "      <td>1859-10-01</td>\n",
       "      <td>2019-12-31</td>\n",
       "      <td>Total wind movement</td>\n",
       "      <td>1.0</td>\n",
       "    </tr>\n",
       "  </tbody>\n",
       "</table>\n",
       "</div>"
      ],
      "text/plain": [
       "        mindate    maxdate                                               name  \\\n",
       "id                                                                              \n",
       "DT32 1763-01-01 2019-12-01  Number days with minimum temperature less than...   \n",
       "DX32 1763-01-01 2019-12-01       Number days with maximum temperature < 32 F.   \n",
       "PRCP 1781-01-01 2020-01-08                                      Precipitation   \n",
       "SNWD 1857-01-18 2020-01-08                                         Snow depth   \n",
       "THIC 1926-03-17 2019-11-30                          Thickness of ice on water   \n",
       "TMIN 1763-01-01 2020-01-08                                Minimum temperature   \n",
       "WDMV 1859-10-01 2019-12-31                                Total wind movement   \n",
       "\n",
       "      datacoverage  \n",
       "id                  \n",
       "DT32           1.0  \n",
       "DX32           1.0  \n",
       "PRCP           1.0  \n",
       "SNWD           1.0  \n",
       "THIC           1.0  \n",
       "TMIN           1.0  \n",
       "WDMV           1.0  "
      ]
     },
     "execution_count": 13,
     "metadata": {},
     "output_type": "execute_result"
    }
   ],
   "source": [
    "v_chosen = v_times.set_index(\"id\")\n",
    "v_chosen = v_chosen.loc[[\"DT32\", \"DX32\",\"PRCP\",\"SNWD\", \"THIC\", \"TMIN\", \"WDMV\"]]\n",
    "v_chosen.head(10)\n",
    "\n",
    "v_times.to_csv(os.path.join('..', 'data_files', 'variables.csv'))"
   ]
  },
  {
   "cell_type": "code",
   "execution_count": null,
   "metadata": {},
   "outputs": [],
   "source": []
  }
 ],
 "metadata": {
  "kernelspec": {
   "display_name": "proj_env",
   "language": "python",
   "name": "python3"
  },
  "language_info": {
   "codemirror_mode": {
    "name": "ipython",
    "version": 3
   },
   "file_extension": ".py",
   "mimetype": "text/x-python",
   "name": "python",
   "nbconvert_exporter": "python",
   "pygments_lexer": "ipython3",
   "version": "3.7.5"
  }
 },
 "nbformat": 4,
 "nbformat_minor": 4
}
