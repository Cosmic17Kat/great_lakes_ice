{
 "cells": [
  {
   "cell_type": "code",
   "execution_count": 1,
   "metadata": {},
   "outputs": [],
   "source": [
    "import pandas as pd\n",
    "import os\n",
    "import requests\n",
    "import datetime as dt\n",
    "from config import noaa_token as token"
   ]
  },
  {
   "cell_type": "code",
   "execution_count": 2,
   "metadata": {},
   "outputs": [],
   "source": [
    "#variables\n",
    "base = 'https://www.ncdc.noaa.gov/cdo-web/api/v2/'\n",
    "header = {'token':token,\n",
    "          'Content-Type':'application/json'}\n",
    "\n",
    "state_ids = {'PA':'FIPS:42',\n",
    "            'OH':'FIPS:39',\n",
    "            'MI':'FIPS:26',\n",
    "            'IL':'FIPS:17',\n",
    "            'WI':'FIPS:55',\n",
    "            'MN':'FIPS:27',\n",
    "            'IA':'FIPS:18',\n",
    "            'NY':'FIPS:36'}\n",
    "\n",
    "variables = {'ice_thinkness':'THIC',\n",
    "            'precipitation':'PRCP',\n",
    "            }"
   ]
  },
  {
   "cell_type": "code",
   "execution_count": 3,
   "metadata": {},
   "outputs": [],
   "source": [
    "#get count\n",
    "def get_c(json):\n",
    "    return json['metadata']['resultset']['count']\n",
    "\n",
    "def gather(endpt,load):\n",
    "    initial = requests.get(base+endpt,headers=header,params=load).json()\n",
    "    count = get_c(initial)\n",
    "    json = initial['results']\n",
    "    offset = 1000\n",
    "    while offset < count:\n",
    "        load['offset'] = offset\n",
    "        json += requests.get(base+endpt,headers=header,params=load).json()['results']\n",
    "        offset += 1000\n",
    "    return pd.DataFrame(json)"
   ]
  },
  {
   "cell_type": "code",
   "execution_count": 4,
   "metadata": {},
   "outputs": [],
   "source": [
    "variables = gather('datatypes',{'limit':'1000'})"
   ]
  },
  {
   "cell_type": "code",
   "execution_count": 5,
   "metadata": {},
   "outputs": [
    {
     "data": {
      "text/plain": [
       "1528"
      ]
     },
     "execution_count": 5,
     "metadata": {},
     "output_type": "execute_result"
    }
   ],
   "source": [
    "len(variables)"
   ]
  },
  {
   "cell_type": "code",
   "execution_count": 6,
   "metadata": {},
   "outputs": [],
   "source": [
    "variables['mindate'] = pd.to_datetime(variables['mindate'])\n",
    "variables['maxdate'] = pd.to_datetime(variables['maxdate'])"
   ]
  },
  {
   "cell_type": "code",
   "execution_count": 7,
   "metadata": {},
   "outputs": [
    {
     "data": {
      "text/plain": [
       "78"
      ]
     },
     "execution_count": 7,
     "metadata": {},
     "output_type": "execute_result"
    }
   ],
   "source": [
    "v_mintimes = variables[variables['mindate']<='1972-12-19']\n",
    "v_times = v_mintimes[v_mintimes['maxdate']>='2016-05-05']\n",
    "len(v_times)"
   ]
  },
  {
   "cell_type": "code",
   "execution_count": 9,
   "metadata": {},
   "outputs": [],
   "source": [
    "v_times.to_csv(os.path.join('..', 'data_files', 'variables.csv'))"
   ]
  },
  {
   "cell_type": "code",
   "execution_count": null,
   "metadata": {},
   "outputs": [],
   "source": []
  }
 ],
 "metadata": {
  "kernelspec": {
   "display_name": "proj_env",
   "language": "python",
   "name": "python3"
  },
  "language_info": {
   "codemirror_mode": {
    "name": "ipython",
    "version": 3
   },
   "file_extension": ".py",
   "mimetype": "text/x-python",
   "name": "python",
   "nbconvert_exporter": "python",
   "pygments_lexer": "ipython3",
   "version": "3.7.5"
  }
 },
 "nbformat": 4,
 "nbformat_minor": 4
}
