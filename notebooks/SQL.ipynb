{
 "cells": [
  {
   "cell_type": "code",
   "execution_count": 12,
   "metadata": {},
   "outputs": [],
   "source": [
    "import pandas as pd\n",
    "import os\n",
    "from sqlalchemy import create_engine\n",
    "from sqlalchemy.exc import ProgrammingError\n",
    "import warnings\n",
    "from config import db_password as pw"
   ]
  },
  {
   "cell_type": "code",
   "execution_count": 13,
   "metadata": {},
   "outputs": [],
   "source": [
    "use = 'root'\n",
    "host = '127.0.0.1'\n",
    "port = '3306'\n",
    "db = 'noaa_ice_db'\n",
    "tbl = 'ice_coverage'"
   ]
  },
  {
   "cell_type": "code",
   "execution_count": 19,
   "metadata": {},
   "outputs": [
    {
     "data": {
      "text/html": [
       "<div>\n",
       "<style scoped>\n",
       "    .dataframe tbody tr th:only-of-type {\n",
       "        vertical-align: middle;\n",
       "    }\n",
       "\n",
       "    .dataframe tbody tr th {\n",
       "        vertical-align: top;\n",
       "    }\n",
       "\n",
       "    .dataframe thead th {\n",
       "        text-align: right;\n",
       "    }\n",
       "</style>\n",
       "<table border=\"1\" class=\"dataframe\">\n",
       "  <thead>\n",
       "    <tr style=\"text-align: right;\">\n",
       "      <th></th>\n",
       "      <th>Unnamed: 0</th>\n",
       "      <th>Date</th>\n",
       "      <th>Superior</th>\n",
       "      <th>Michigan</th>\n",
       "      <th>Huron</th>\n",
       "      <th>Erie</th>\n",
       "      <th>Ontario</th>\n",
       "      <th>Weekday</th>\n",
       "      <th>Year</th>\n",
       "      <th>Month</th>\n",
       "      <th>Day</th>\n",
       "      <th>Period</th>\n",
       "    </tr>\n",
       "  </thead>\n",
       "  <tbody>\n",
       "    <tr>\n",
       "      <th>0</th>\n",
       "      <td>727</td>\n",
       "      <td>1994-12-08</td>\n",
       "      <td>0.00</td>\n",
       "      <td>NaN</td>\n",
       "      <td>NaN</td>\n",
       "      <td>NaN</td>\n",
       "      <td>NaN</td>\n",
       "      <td>Thursday</td>\n",
       "      <td>1994</td>\n",
       "      <td>12</td>\n",
       "      <td>8</td>\n",
       "      <td>1994-12</td>\n",
       "    </tr>\n",
       "    <tr>\n",
       "      <th>1</th>\n",
       "      <td>728</td>\n",
       "      <td>1994-12-09</td>\n",
       "      <td>0.61</td>\n",
       "      <td>0.00</td>\n",
       "      <td>0.0</td>\n",
       "      <td>0.0</td>\n",
       "      <td>0.0</td>\n",
       "      <td>Friday</td>\n",
       "      <td>1994</td>\n",
       "      <td>12</td>\n",
       "      <td>9</td>\n",
       "      <td>1994-12</td>\n",
       "    </tr>\n",
       "    <tr>\n",
       "      <th>2</th>\n",
       "      <td>729</td>\n",
       "      <td>1994-12-12</td>\n",
       "      <td>1.01</td>\n",
       "      <td>0.00</td>\n",
       "      <td>0.8</td>\n",
       "      <td>0.0</td>\n",
       "      <td>0.0</td>\n",
       "      <td>Monday</td>\n",
       "      <td>1994</td>\n",
       "      <td>12</td>\n",
       "      <td>12</td>\n",
       "      <td>1994-12</td>\n",
       "    </tr>\n",
       "    <tr>\n",
       "      <th>3</th>\n",
       "      <td>730</td>\n",
       "      <td>1994-12-14</td>\n",
       "      <td>0.94</td>\n",
       "      <td>0.11</td>\n",
       "      <td>1.0</td>\n",
       "      <td>0.0</td>\n",
       "      <td>0.0</td>\n",
       "      <td>Wednesday</td>\n",
       "      <td>1994</td>\n",
       "      <td>12</td>\n",
       "      <td>14</td>\n",
       "      <td>1994-12</td>\n",
       "    </tr>\n",
       "    <tr>\n",
       "      <th>4</th>\n",
       "      <td>731</td>\n",
       "      <td>1994-12-16</td>\n",
       "      <td>1.12</td>\n",
       "      <td>0.14</td>\n",
       "      <td>1.4</td>\n",
       "      <td>0.0</td>\n",
       "      <td>0.3</td>\n",
       "      <td>Friday</td>\n",
       "      <td>1994</td>\n",
       "      <td>12</td>\n",
       "      <td>16</td>\n",
       "      <td>1994-12</td>\n",
       "    </tr>\n",
       "  </tbody>\n",
       "</table>\n",
       "</div>"
      ],
      "text/plain": [
       "   Unnamed: 0        Date  Superior  Michigan  Huron  Erie  Ontario  \\\n",
       "0         727  1994-12-08      0.00       NaN    NaN   NaN      NaN   \n",
       "1         728  1994-12-09      0.61      0.00    0.0   0.0      0.0   \n",
       "2         729  1994-12-12      1.01      0.00    0.8   0.0      0.0   \n",
       "3         730  1994-12-14      0.94      0.11    1.0   0.0      0.0   \n",
       "4         731  1994-12-16      1.12      0.14    1.4   0.0      0.3   \n",
       "\n",
       "     Weekday  Year  Month  Day   Period  \n",
       "0   Thursday  1994     12    8  1994-12  \n",
       "1     Friday  1994     12    9  1994-12  \n",
       "2     Monday  1994     12   12  1994-12  \n",
       "3  Wednesday  1994     12   14  1994-12  \n",
       "4     Friday  1994     12   16  1994-12  "
      ]
     },
     "execution_count": 19,
     "metadata": {},
     "output_type": "execute_result"
    }
   ],
   "source": [
    "ice_cov = pd.read_csv(os.path.join('..','data_files','clean_data','ice_coverage.csv'))\n",
    "ice_cov.head()"
   ]
  },
  {
   "cell_type": "code",
   "execution_count": 20,
   "metadata": {},
   "outputs": [],
   "source": [
    "engine = create_engine(f\"mysql+pymysql://{use}:{pw}@{host}:{port}\")"
   ]
  },
  {
   "cell_type": "code",
   "execution_count": 24,
   "metadata": {},
   "outputs": [
    {
     "name": "stderr",
     "output_type": "stream",
     "text": [
      "/Users/katjansen/.local/share/virtualenvs/SMMBBGKJ-TTH-Prj1-3OGYv820/lib/python3.7/site-packages/ipykernel_launcher.py:5: UserWarning: Could not create noaa_ice_db. Database noaa_ice_db may already exist.\n",
      "  \"\"\"\n"
     ]
    }
   ],
   "source": [
    "try:\n",
    "    engine.execute(f\"CREATE DATABASE {db}\")\n",
    "except ProgrammingError:\n",
    "    warnings.warn(\n",
    "        f\"Could not create {db}. Database {db} may already exist.\"\n",
    "    )\n",
    "    pass"
   ]
  },
  {
   "cell_type": "code",
   "execution_count": 22,
   "metadata": {},
   "outputs": [],
   "source": [
    "engine.execute(f\"USE {db}\")\n",
    "engine.execute(f\"DROP TABLE IF EXISTS {tbl}\")\n",
    "ice_cov.to_sql(name=tbl,con=engine)"
   ]
  },
  {
   "cell_type": "code",
   "execution_count": null,
   "metadata": {},
   "outputs": [],
   "source": []
  }
 ],
 "metadata": {
  "kernelspec": {
   "display_name": "project-1",
   "language": "python",
   "name": "python3"
  },
  "language_info": {
   "codemirror_mode": {
    "name": "ipython",
    "version": 3
   },
   "file_extension": ".py",
   "mimetype": "text/x-python",
   "name": "python",
   "nbconvert_exporter": "python",
   "pygments_lexer": "ipython3",
   "version": "3.7.4"
  }
 },
 "nbformat": 4,
 "nbformat_minor": 4
}
